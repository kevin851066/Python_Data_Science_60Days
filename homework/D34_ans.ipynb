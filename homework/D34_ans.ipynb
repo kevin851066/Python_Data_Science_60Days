{
 "cells": [
  {
   "cell_type": "markdown",
   "metadata": {},
   "source": [
    "## 作業:\n",
    "今天課程中以一個案例，說明資料分析的流程與探索性分析，是否對於課程中一開始的問題，更有想法了?!    \n",
    "Q1: 哪一個問題不適合用資料科學解決?   \n",
    "Q2: 以你的角度來分析，為什麼這樣的問題，較不適合用資料來解決?    \n",
    "將答案寫在論壇中，大家一起互相討論激盪。   \n",
    "![](作業圖檔.PNG)"
   ]
  },
  {
   "cell_type": "code",
   "execution_count": 1,
   "metadata": {},
   "outputs": [
    {
     "data": {
      "text/plain": [
       "'\\n1. 挑選 Mr./Ms. Right\\n2. 顧客下次會買哪些東西？\\n3. 半導體的良率預測？\\n\\nA1: 都適合\\nA2: 既然Spotify都能開發出Weekly discovery這種類似音樂推薦系統的功能，為何挑選Mr./ Ms. Right不能？\\n同樣是喜好的問題，一個是對音樂的喜好，一個是對人的喜好，我覺得概念相同。只是後者更加複雜。\\n'"
      ]
     },
     "execution_count": 1,
     "metadata": {},
     "output_type": "execute_result"
    }
   ],
   "source": [
    "'''\n",
    "1. 挑選 Mr./Ms. Right\n",
    "2. 顧客下次會買哪些東西？\n",
    "3. 半導體的良率預測？\n",
    "\n",
    "A1: 都適合\n",
    "A2: 既然Spotify都能開發出Weekly discovery這種類似音樂推薦系統的功能，為何挑選Mr./ Ms. Right不能？\n",
    "同樣是喜好的問題，一個是對音樂的喜好，一個是對人的喜好，我覺得概念相同。只是後者更加複雜。\n",
    "'''"
   ]
  }
 ],
 "metadata": {
  "colab": {
   "name": "Day33.YOLO 細節理解 - 網路輸出的後處理_HW.ipynb",
   "provenance": []
  },
  "kernelspec": {
   "display_name": "Python 3",
   "language": "python",
   "name": "python3"
  },
  "language_info": {
   "codemirror_mode": {
    "name": "ipython",
    "version": 3
   },
   "file_extension": ".py",
   "mimetype": "text/x-python",
   "name": "python",
   "nbconvert_exporter": "python",
   "pygments_lexer": "ipython3",
   "version": "3.8.5"
  }
 },
 "nbformat": 4,
 "nbformat_minor": 1
}
