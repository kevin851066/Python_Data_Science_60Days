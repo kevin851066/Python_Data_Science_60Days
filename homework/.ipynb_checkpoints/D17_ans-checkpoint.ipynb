{
 "cells": [
  {
   "cell_type": "code",
   "execution_count": 1,
   "metadata": {},
   "outputs": [],
   "source": [
    "# 在速度較慢的時候，可以先從哪邊開始檢查？"
   ]
  },
  {
   "cell_type": "markdown",
   "metadata": {},
   "source": [
    "ans: 讀取的資料型態，是否使用內建函數，選擇有向量化資料處理函式"
   ]
  },
  {
   "cell_type": "code",
   "execution_count": 2,
   "metadata": {},
   "outputs": [],
   "source": [
    "# 資料過大時應採取什麼方式讓記憶體占用量下降？"
   ]
  },
  {
   "cell_type": "markdown",
   "metadata": {},
   "source": [
    "ans: 可以將欄位的型態降級，不需要存太多元素在一個數字中"
   ]
  }
 ],
 "metadata": {
  "kernelspec": {
   "display_name": "Python 3",
   "language": "python",
   "name": "python3"
  },
  "language_info": {
   "codemirror_mode": {
    "name": "ipython",
    "version": 3
   },
   "file_extension": ".py",
   "mimetype": "text/x-python",
   "name": "python",
   "nbconvert_exporter": "python",
   "pygments_lexer": "ipython3",
   "version": "3.8.3"
  }
 },
 "nbformat": 4,
 "nbformat_minor": 4
}
