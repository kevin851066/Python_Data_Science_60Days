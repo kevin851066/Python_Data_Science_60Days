{
 "cells": [
  {
   "cell_type": "code",
   "execution_count": 1,
   "metadata": {},
   "outputs": [],
   "source": [
    "import numpy as np"
   ]
  },
  {
   "cell_type": "code",
   "execution_count": 24,
   "metadata": {},
   "outputs": [
    {
     "data": {
      "text/plain": [
       "array([[55., 89., 76., 65., 48., 70.],\n",
       "       [60., 85., 60., 68., nan, 60.],\n",
       "       [65., 90., 82., 72., 66., 77.]])"
      ]
     },
     "execution_count": 24,
     "metadata": {},
     "output_type": "execute_result"
    }
   ],
   "source": [
    "english_score = np.array([55,89,76,65,48,70])\n",
    "math_score = np.array([60,85,60,68,np.nan,60])\n",
    "chinese_score = np.array([65,90,82,72,66,77])"
   ]
  },
  {
   "cell_type": "markdown",
   "metadata": {},
   "source": [
    "# Question 1"
   ]
  },
  {
   "cell_type": "code",
   "execution_count": 13,
   "metadata": {},
   "outputs": [
    {
     "data": {
      "text/plain": [
       "array([[55., 89., 76., 65., 48., 70.],\n",
       "       [60., 85., 60., 68., nan, 60.],\n",
       "       [65., 90., 82., 72., 66., 77.]])"
      ]
     },
     "execution_count": 13,
     "metadata": {},
     "output_type": "execute_result"
    }
   ],
   "source": [
    "scores = np.concatenate((english_score.reshape(1, -1), \n",
    "                         math_score.reshape(1, -1),\n",
    "                         chinese_score.reshape(1, -1)), axis=0)\n",
    "scores"
   ]
  },
  {
   "cell_type": "code",
   "execution_count": 18,
   "metadata": {},
   "outputs": [
    {
     "name": "stdout",
     "output_type": "stream",
     "text": [
      "Average:  [67.16666667 66.6        75.33333333]\n",
      "Max:  [89. 85. 90.]\n",
      "Min:  [48. 60. 65.]\n",
      "Std:  [13.43399502  9.70772888  8.8254682 ]\n"
     ]
    }
   ],
   "source": [
    "avg = np.nanmean(scores, axis=1)\n",
    "print('Average: ', avg)\n",
    "_max = np.nanmax(scores, axis=1)\n",
    "print('Max: ', _max)\n",
    "_min = np.nanmin(scores, axis=1)\n",
    "print('Min: ', _min)\n",
    "std = np.nanstd(scores, axis=1)\n",
    "print('Std: ', std)"
   ]
  },
  {
   "cell_type": "markdown",
   "metadata": {},
   "source": [
    "# Question 2"
   ]
  },
  {
   "cell_type": "code",
   "execution_count": 19,
   "metadata": {},
   "outputs": [],
   "source": [
    "new_math_score = np.array([60,85,60,68,55,60])"
   ]
  },
  {
   "cell_type": "code",
   "execution_count": 20,
   "metadata": {},
   "outputs": [
    {
     "data": {
      "text/plain": [
       "array([[55, 89, 76, 65, 48, 70],\n",
       "       [60, 85, 60, 68, 55, 60],\n",
       "       [65, 90, 82, 72, 66, 77]])"
      ]
     },
     "execution_count": 20,
     "metadata": {},
     "output_type": "execute_result"
    }
   ],
   "source": [
    "new_scores = np.concatenate((english_score.reshape(1, -1), \n",
    "                             new_math_score.reshape(1, -1),\n",
    "                             chinese_score.reshape(1, -1)), axis=0)\n",
    "new_scores"
   ]
  },
  {
   "cell_type": "code",
   "execution_count": 22,
   "metadata": {},
   "outputs": [
    {
     "name": "stdout",
     "output_type": "stream",
     "text": [
      "Average:  [67.16666667 64.66666667 75.33333333]\n",
      "Max:  [89 85 90]\n",
      "Min:  [48 55 65]\n",
      "Std:  [13.43399502  9.86013297  8.8254682 ]\n"
     ]
    }
   ],
   "source": [
    "avg = np.mean(new_scores, axis=1)\n",
    "print('Average: ', avg)\n",
    "_max = np.max(new_scores, axis=1)\n",
    "print('Max: ', _max)\n",
    "_min = np.min(new_scores, axis=1)\n",
    "print('Min: ', _min)\n",
    "std = np.std(new_scores, axis=1)\n",
    "print('Std: ', std)"
   ]
  },
  {
   "cell_type": "markdown",
   "metadata": {},
   "source": [
    "# Question 3"
   ]
  },
  {
   "cell_type": "code",
   "execution_count": 23,
   "metadata": {},
   "outputs": [
    {
     "data": {
      "text/plain": [
       "array([[1.        , 0.7855563 , 0.97792828],\n",
       "       [0.7855563 , 1.        , 0.74056803],\n",
       "       [0.97792828, 0.74056803, 1.        ]])"
      ]
     },
     "execution_count": 23,
     "metadata": {},
     "output_type": "execute_result"
    }
   ],
   "source": [
    "np.corrcoef(new_scores)"
   ]
  },
  {
   "cell_type": "markdown",
   "metadata": {},
   "source": [
    "- a(英文跟國文的相關係數) = 0.97792828\n",
    "- b(數學跟國文的相關係數) = 0.7855563\n",
    "- a > b\n",
    "- 英文"
   ]
  }
 ],
 "metadata": {
  "kernelspec": {
   "display_name": "Python 3",
   "language": "python",
   "name": "python3"
  },
  "language_info": {
   "codemirror_mode": {
    "name": "ipython",
    "version": 3
   },
   "file_extension": ".py",
   "mimetype": "text/x-python",
   "name": "python",
   "nbconvert_exporter": "python",
   "pygments_lexer": "ipython3",
   "version": "3.8.3"
  }
 },
 "nbformat": 4,
 "nbformat_minor": 4
}
