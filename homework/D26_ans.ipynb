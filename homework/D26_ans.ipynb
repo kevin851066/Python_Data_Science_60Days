{
 "cells": [
  {
   "cell_type": "markdown",
   "metadata": {},
   "source": [
    "## 作業:\n",
    "今天學到不同統計量之間特性，  \n",
    "試著分析男生女生身高資料，  \n",
    "試著回答下面的問題:  \n",
    "Q1:試著用今天所教的內容，如何描述這兩組資料的樣態?    \n",
    "Q2: 請問男生和女生在平均身高上誰比較高?   \n",
    "Q3:請問第二題的答案和日常生活中觀察的一致嗎? 如果不一致，你覺得原因可能為何?    \n",
    "上述問題透過  python 語法進行運算，\n",
    "並將上述答案填寫在 (google 表單)[https://forms.gle/EDdU2Zfq8zLvDea18]\n",
    "![](作業資料圖檔.PNG)"
   ]
  },
  {
   "cell_type": "code",
   "execution_count": 1,
   "metadata": {
    "colab": {
     "base_uri": "https://localhost:8080/",
     "height": 34
    },
    "colab_type": "code",
    "executionInfo": {
     "elapsed": 1558,
     "status": "ok",
     "timestamp": 1578021044012,
     "user": {
      "displayName": "Mora chen",
      "photoUrl": "https://lh3.googleusercontent.com/a-/AAuE7mB40f7sDArbZ5_DYq02nNcnLD0Ryaf7AhsASSQeLQ=s64",
      "userId": "03171203089166907199"
     },
     "user_tz": -480
    },
    "id": "yz28_IgkYdBW",
    "outputId": "a12f486c-18b3-4fb5-d06c-f162aebd9444"
   },
   "outputs": [],
   "source": [
    "# library\n",
    "import matplotlib.pyplot as plt\n",
    "import numpy as np\n",
    "import pandas as pd\n",
    "from scipy import stats\n",
    "import math\n",
    "import statistics\n",
    "import seaborn as sns"
   ]
  },
  {
   "cell_type": "code",
   "execution_count": 2,
   "metadata": {},
   "outputs": [],
   "source": [
    "## 輸入資料\n",
    "boys = [164, 176, 169, 169, 165, 175, 159, 151, 144, 160, 183, 165, 156, 170,\n",
    " 164, 173, 165, 163, 177, 171]\n",
    "girls = [169, 183, 170, 168, 182, 170, 173, 185, 151, 156, 162, 169, 162, 181, \n",
    " 159, 154, 167, 175, 170, 160]"
   ]
  },
  {
   "cell_type": "code",
   "execution_count": 3,
   "metadata": {},
   "outputs": [
    {
     "name": "stdout",
     "output_type": "stream",
     "text": [
      "boys mean: 165.95, girls mean: 168.3\n",
      "boys median: 165.0, girls median: 169.0\n",
      "boys mode: 165, girls mode: 170\n",
      "boys range: 39, girls range: 34\n",
      "boys std: 9.214, girls std: 9.766\n",
      "boys skewness: -0.471, girls skewness: 0.06\n",
      "boys kurtosis: 0.194, girls kurtosis: -0.82\n",
      "boys 75 percentile: 171.5, girls 75 percentile: 173.5\n",
      "boys 50 percentile: 165.0, girls 50 percentile: 169.0\n",
      "boys 25 percentile: 162.25, girls 25 percentile: 161.5\n"
     ]
    }
   ],
   "source": [
    "#Q1:試著用今天所教的內容，如何描述這兩組資料的樣態?\n",
    "#暗示:  分別計算男生和女生的統計量\n",
    "mean_boy, mean_girl = np.mean(boys), np.mean(girls)\n",
    "median_boy, median_girl = np.median(boys, axis=None), np.median(girls, axis=None)\n",
    "mode_boy, mode_girl = stats.mode(boys, axis=None), stats.mode(girls, axis=None)\n",
    "range_boy, range_girl = max(boys) - min(boys), max(girls) - min(girls)\n",
    "std_boy, std_girl = np.std(boys, ddof=1), np.std(girls, ddof=1)\n",
    "print('boys mean: {}, girls mean: {}'.format(mean_boy, mean_girl))\n",
    "print('boys median: {}, girls median: {}'.format(median_boy, median_girl))\n",
    "print('boys mode: {}, girls mode: {}'.format(mode_boy[0][0], mode_girl[0][0]))\n",
    "print('boys range: {}, girls range: {}'.format(range_boy, range_girl))\n",
    "print('boys std: {}, girls std: {}'.format(round(std_boy, 3), round(std_girl, 3)))\n",
    "print('boys skewness: {}, girls skewness: {}'.format(round(stats.skew(boys), 3), round(stats.skew(girls), 3)))\n",
    "print('boys kurtosis: {}, girls kurtosis: {}'.format(round(stats.kurtosis(boys), 3), round(stats.kurtosis(girls), 3)))\n",
    "\n",
    "print('boys 75 percentile: {}, girls 75 percentile: {}'.format(np.percentile(boys, 75), np.percentile(girls, 75)))\n",
    "print('boys 50 percentile: {}, girls 50 percentile: {}'.format(np.percentile(boys, 50), np.percentile(girls, 50)))\n",
    "print('boys 25 percentile: {}, girls 25 percentile: {}'.format(np.percentile(boys, 25), np.percentile(girls, 25)))"
   ]
  },
  {
   "cell_type": "code",
   "execution_count": 4,
   "metadata": {},
   "outputs": [
    {
     "data": {
      "text/plain": [
       "'\\n男生\\n'"
      ]
     },
     "execution_count": 4,
     "metadata": {},
     "output_type": "execute_result"
    }
   ],
   "source": [
    "#Q2: 請問男生和女生在平均身高上誰比較高? \n",
    "'''\n",
    "男生\n",
    "'''"
   ]
  },
  {
   "cell_type": "code",
   "execution_count": 5,
   "metadata": {},
   "outputs": [
    {
     "data": {
      "text/plain": [
       "'\\n觀察者運氣不好，取出的樣本剛好男生比較矮，女生比較高。\\n'"
      ]
     },
     "execution_count": 5,
     "metadata": {},
     "output_type": "execute_result"
    }
   ],
   "source": [
    "#Q3:請問第二題的答案和日常生活中觀察的一致嗎? 如果不一致，你覺得原因可能為何? \n",
    "'''\n",
    "觀察者運氣不好，取出的樣本剛好男生比較矮，女生比較高。\n",
    "'''"
   ]
  }
 ],
 "metadata": {
  "colab": {
   "name": "Day33.YOLO 細節理解 - 網路輸出的後處理_HW.ipynb",
   "provenance": []
  },
  "kernelspec": {
   "display_name": "Python 3",
   "language": "python",
   "name": "python3"
  },
  "language_info": {
   "codemirror_mode": {
    "name": "ipython",
    "version": 3
   },
   "file_extension": ".py",
   "mimetype": "text/x-python",
   "name": "python",
   "nbconvert_exporter": "python",
   "pygments_lexer": "ipython3",
   "version": "3.8.3"
  }
 },
 "nbformat": 4,
 "nbformat_minor": 1
}
